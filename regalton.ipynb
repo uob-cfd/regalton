{
 "cells": [
  {
   "cell_type": "markdown",
   "metadata": {},
   "source": [
    "# Re-Galtoning"
   ]
  },
  {
   "cell_type": "code",
   "execution_count": null,
   "metadata": {},
   "outputs": [],
   "source": [
    "# Don't change this cell; just run it.\n",
    "import numpy as np  # The array library.\n",
    "import pandas as pd\n",
    "# Safe settings for Pandas.\n",
    "pd.set_option('mode.chained_assignment', 'raise')"
   ]
  },
  {
   "cell_type": "markdown",
   "metadata": {},
   "source": [
    "In this exercise, you will very likely find yourselves using\n",
    "\n",
    "* [groupby](/useful-pandas/groupby)\n",
    "* [merge](/useful-pandas/merge)\n",
    "\n",
    "as well as some of your other Pandas skills."
   ]
  },
  {
   "cell_type": "markdown",
   "metadata": {},
   "source": [
    "## The data\n",
    "\n",
    "The data for your task relates to a very famous paper by [Francis\n",
    "Galton](https://en.wikipedia.org/wiki/Francis_Galton), published in 1886.\n",
    "Galton was an extraordinarily versatile scientist who laid the groundwork for\n",
    "early statistics, and particularly regression and correlation.  The paper we\n",
    "are interested in here is:\n",
    "\n",
    "> Galton, F. (1886). [Regression Towards Mediocrity in Hereditary Stature](\n",
    "https://galton.org/essays/1880-1889/galton-1886-jaigi-regression-stature.pdf)\n",
    "Journal of the Anthropological Institute, 15, 246-263\n",
    "\n",
    "In fact, this paper is the origin of the term *regression* for fitting\n",
    "prediction lines to data.\n",
    "\n",
    "Galton was a keen eugenicist, and was very interested in inheritance.  In this\n",
    "case he studied the relationship of children's heights to the heights of their\n",
    "parents.\n",
    "\n",
    "Galton asked families to give him data about:\n",
    "\n",
    "* The father's height\n",
    "* The mother's height\n",
    "* The height and gender of each adult child in the family.\n",
    "\n",
    "You can read more about the data files at the [Galton heights datasets\n",
    "page](https://github.com/odsti/datasets/tree/regalton/galtons_heights)."
   ]
  },
  {
   "cell_type": "markdown",
   "metadata": {},
   "source": [
    "## Reconstructing a dataframe\n",
    "\n",
    "First, here is the data frame that you are aiming to reconstruct.  Your task is\n",
    "to rebuild this table, including its data and column names, from the component data frames you will see further below."
   ]
  },
  {
   "cell_type": "code",
   "execution_count": null,
   "metadata": {},
   "outputs": [],
   "source": [
    "# Data frame you are aiming to reconstruct.\n",
    "combined = pd.read_csv('galton_combined.csv')\n",
    "combined.head()"
   ]
  },
  {
   "cell_type": "markdown",
   "metadata": {},
   "source": [
    "As you can see, this combined data frame has one row per adult child, along\n",
    "with their parents heights, and a unique identifier for the family, in the\n",
    "`family` column.  We will come onto `midparentHeight` later.\n",
    "\n",
    "The components you will be using to reconstruct the `combined` data frame are the following data frames:"
   ]
  },
  {
   "cell_type": "code",
   "execution_count": null,
   "metadata": {},
   "outputs": [],
   "source": [
    "# Data frame with data about families.\n",
    "families = pd.read_csv('galton_families.csv')\n",
    "families.head()"
   ]
  },
  {
   "cell_type": "markdown",
   "metadata": {},
   "source": [
    "This data frame has information about the families, but no information about the children.  Next:"
   ]
  },
  {
   "cell_type": "code",
   "execution_count": null,
   "metadata": {},
   "outputs": [],
   "source": [
    "# Data frame with data about the children.\n",
    "children = pd.read_csv('galton_children.csv')\n",
    "children.head()"
   ]
  },
  {
   "cell_type": "markdown",
   "metadata": {},
   "source": [
    "## Mid-parent height\n",
    "\n",
    "Galton wanted to predict the height of the adult children from the heights of\n",
    "the parents.  He wanted one number to encapsulate the height of both parents,\n",
    "and this number is `midParentHeight` in the `combined` data frame.\n",
    "\n",
    "Women are not as tall as men, on average.  To adjust for this, Galton\n",
    "multiplied the mother's height by 1.08 before averaging with the father's\n",
    "height, to give `midParentHeight`."
   ]
  },
  {
   "cell_type": "markdown",
   "metadata": {},
   "source": [
    "## Ready, set\n",
    "\n",
    "To recap — your task is to reconstruct the data of the `combined` data frame,\n",
    "using the data from the `families` and `children` data frames.  Call the reconstructed data frame `reconstructed`.\n",
    "\n",
    "Try to get the values in `reconstructed` to match `combined` as well as you\n",
    "can.  Rename the columns to match the columns of `combined`.\n",
    "\n",
    "You will all but certainly find yourself using the `groupby` and `merge` methods from the links above.\n",
    "\n",
    "Good luck!"
   ]
  },
  {
   "cell_type": "code",
   "execution_count": null,
   "metadata": {},
   "outputs": [],
   "source": [
    "#- Your code here."
   ]
  },
  {
   "cell_type": "code",
   "execution_count": null,
   "metadata": {},
   "outputs": [],
   "source": [
    "# Make more cells as you need them"
   ]
  },
  {
   "cell_type": "code",
   "execution_count": null,
   "metadata": {},
   "outputs": [],
   "source": [
    "reconstructed = ..."
   ]
  }
 ],
 "metadata": {
  "jupytext": {
   "notebook_metadata_filter": "all,-language_info",
   "split_at_heading": true,
   "text_representation": {
    "extension": ".Rmd",
    "format_name": "rmarkdown",
    "format_version": "1.1",
    "jupytext_version": "1.2.4"
   }
  },
  "kernelspec": {
   "display_name": "Python 3",
   "language": "python",
   "name": "python3"
  }
 },
 "nbformat": 4,
 "nbformat_minor": 4
}
